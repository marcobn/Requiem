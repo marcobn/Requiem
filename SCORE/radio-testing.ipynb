{
 "cells": [
  {
   "cell_type": "markdown",
   "id": "c984e7ec",
   "metadata": {},
   "source": [
    "## Radio frequencies testing"
   ]
  },
  {
   "cell_type": "code",
   "execution_count": 1,
   "id": "7bfb43ab",
   "metadata": {},
   "outputs": [
    {
     "name": "stdout",
     "output_type": "stream",
     "text": [
      "\n",
      "WxPython is not found for the current python version.\n",
      "Pyo will use a minimal GUI toolkit written with Tkinter (if available).\n",
      "This toolkit has limited functionnalities and is no more\n",
      "maintained or updated. If you want to use all of pyo's\n",
      "GUI features, you should install WxPython, available here:\n",
      "http://www.wxpython.org/\n",
      "\n"
     ]
    }
   ],
   "source": [
    "import threading\n",
    "import pyo as po"
   ]
  },
  {
   "cell_type": "code",
   "execution_count": 2,
   "id": "806c6696",
   "metadata": {},
   "outputs": [
    {
     "name": "stdout",
     "output_type": "stream",
     "text": [
      "Pyo warning: Buffer size set to Jack engine buffer size: 1024.\n",
      "Pyo error: Jack cannot find any physical capture ports called 'system'.\n",
      "Pyo error: Server falls back to playback-only mode.\n",
      "Pyo warning: Portmidi warning: no midi device found!\n",
      "Portmidi closed.\n"
     ]
    },
    {
     "data": {
      "text/plain": [
       "<pyo.lib.server.Server at 0x7fe0ef7f5640>"
      ]
     },
     "execution_count": 2,
     "metadata": {},
     "output_type": "execute_result"
    }
   ],
   "source": [
    "nch = 4\n",
    "ich = 0\n",
    "# Set audio server\n",
    "s = po.Server(nchnls=nch,ichnls=ich,audio='jack').boot()\n",
    "s.start()"
   ]
  },
  {
   "cell_type": "markdown",
   "id": "8c2585ed",
   "metadata": {},
   "source": [
    "### check signals one at a time"
   ]
  },
  {
   "cell_type": "code",
   "execution_count": 7,
   "id": "c3186fa0",
   "metadata": {},
   "outputs": [],
   "source": [
    "one = po.Sine(freq=260).out(0,0)"
   ]
  },
  {
   "cell_type": "code",
   "execution_count": 8,
   "id": "26603173",
   "metadata": {},
   "outputs": [
    {
     "data": {
      "text/plain": [
       "< Instance of Sine class >"
      ]
     },
     "execution_count": 8,
     "metadata": {},
     "output_type": "execute_result"
    }
   ],
   "source": [
    "one.stop()"
   ]
  },
  {
   "cell_type": "code",
   "execution_count": 9,
   "id": "96e9bbcc",
   "metadata": {},
   "outputs": [],
   "source": [
    "two = po.Sine(freq=330).out(1,0)"
   ]
  },
  {
   "cell_type": "code",
   "execution_count": 10,
   "id": "fc40d61d",
   "metadata": {},
   "outputs": [
    {
     "data": {
      "text/plain": [
       "< Instance of Sine class >"
      ]
     },
     "execution_count": 10,
     "metadata": {},
     "output_type": "execute_result"
    }
   ],
   "source": [
    "two.stop()"
   ]
  },
  {
   "cell_type": "code",
   "execution_count": 11,
   "id": "454cea4a",
   "metadata": {},
   "outputs": [],
   "source": [
    "three = po.Sine(freq=392).out(2,0)"
   ]
  },
  {
   "cell_type": "code",
   "execution_count": 12,
   "id": "e084f058",
   "metadata": {},
   "outputs": [
    {
     "data": {
      "text/plain": [
       "< Instance of Sine class >"
      ]
     },
     "execution_count": 12,
     "metadata": {},
     "output_type": "execute_result"
    }
   ],
   "source": [
    "three.stop()"
   ]
  },
  {
   "cell_type": "code",
   "execution_count": 13,
   "id": "9952b943",
   "metadata": {},
   "outputs": [],
   "source": [
    "four = po.Sine(freq=466).out(3,0)"
   ]
  },
  {
   "cell_type": "code",
   "execution_count": 14,
   "id": "e9232d11",
   "metadata": {},
   "outputs": [
    {
     "data": {
      "text/plain": [
       "< Instance of Sine class >"
      ]
     },
     "execution_count": 14,
     "metadata": {},
     "output_type": "execute_result"
    }
   ],
   "source": [
    "four.stop()"
   ]
  },
  {
   "cell_type": "markdown",
   "id": "960acca7",
   "metadata": {},
   "source": [
    "### all together"
   ]
  },
  {
   "cell_type": "code",
   "execution_count": 15,
   "id": "2a1eee05",
   "metadata": {},
   "outputs": [],
   "source": [
    "one = po.Sine(freq=260).out(0,0)\n",
    "two = po.Sine(freq=330).out(1,0)\n",
    "three = po.Sine(freq=392).out(2,0)\n",
    "four = po.Sine(freq=466).out(3,0)"
   ]
  },
  {
   "cell_type": "code",
   "execution_count": 16,
   "id": "49b4ffe6",
   "metadata": {},
   "outputs": [
    {
     "data": {
      "text/plain": [
       "< Instance of Sine class >"
      ]
     },
     "execution_count": 16,
     "metadata": {},
     "output_type": "execute_result"
    }
   ],
   "source": [
    "one.stop()\n",
    "two.stop()\n",
    "three.stop()\n",
    "four.stop()"
   ]
  },
  {
   "cell_type": "code",
   "execution_count": null,
   "id": "943ed04d",
   "metadata": {},
   "outputs": [],
   "source": [
    "# stop the server\n",
    "s.stop()"
   ]
  }
 ],
 "metadata": {
  "kernelspec": {
   "display_name": "Python 3 (ipykernel)",
   "language": "python",
   "name": "python3"
  },
  "language_info": {
   "codemirror_mode": {
    "name": "ipython",
    "version": 3
   },
   "file_extension": ".py",
   "mimetype": "text/x-python",
   "name": "python",
   "nbconvert_exporter": "python",
   "pygments_lexer": "ipython3",
   "version": "3.9.7"
  }
 },
 "nbformat": 4,
 "nbformat_minor": 5
}
