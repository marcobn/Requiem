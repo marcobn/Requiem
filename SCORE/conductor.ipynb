{
 "cells": [
  {
   "cell_type": "code",
   "execution_count": 1,
   "id": "337dd9a1",
   "metadata": {},
   "outputs": [],
   "source": [
    "import threading, itertools\n",
    "import pyo\n",
    "import time\n",
    "import pyo as po\n",
    "from pydub import AudioSegment\n",
    "import sys,os,glob,time, signal\n",
    "import numpy as np\n",
    "import networkx as nx"
   ]
  },
  {
   "cell_type": "code",
   "execution_count": 2,
   "id": "498cefe3",
   "metadata": {},
   "outputs": [
    {
     "name": "stdout",
     "output_type": "stream",
     "text": [
      "Pyo warning: Buffer size set to Jack engine buffer size: 1024.\n"
     ]
    },
    {
     "data": {
      "text/plain": [
       "<pyo.lib.server.Server at 0x7fddd11b5f10>"
      ]
     },
     "execution_count": 2,
     "metadata": {},
     "output_type": "execute_result"
    }
   ],
   "source": [
    "# Set number of input and output channels\n",
    "# Ch. 0,1,2,3 -> to speakers\n",
    "# Ch. 4,5,6,7 -> to radio transmitters\n",
    "nch = 12\n",
    "ich = 0\n",
    "# Set audio server\n",
    "s = po.Server(nchnls=nch,ichnls=ich,audio='jack').boot()\n",
    "s.start()"
   ]
  },
  {
   "cell_type": "markdown",
   "id": "e7fa202d",
   "metadata": {},
   "source": [
    "### Read the samples and create the dictionaries"
   ]
  },
  {
   "cell_type": "code",
   "execution_count": 3,
   "id": "cdd85eea",
   "metadata": {},
   "outputs": [],
   "source": [
    "def importSoundfiles(dirpath='./',filepath='./',mult=0.1,gain=1.0):\n",
    "\n",
    "    # reading wavefiles\n",
    "\n",
    "    # files\n",
    "    try:\n",
    "        obj = [None]*len(glob.glob(dirpath+filepath))\n",
    "        fil = [None]*len(glob.glob(dirpath+filepath))\n",
    "        n=0\n",
    "        for file in glob.glob(dirpath+filepath):\n",
    "            fil[n] = file\n",
    "            n += 1\n",
    "        for i in range(len(glob.glob(dirpath+filepath))):\n",
    "            obj[i] = po.SfPlayer(fil[i],mul=mult*gain)\n",
    "    except:\n",
    "        print('error in file reading',dirpath+filepath)\n",
    "        pass\n",
    "\n",
    "    return(obj,fil,mult)"
   ]
  },
  {
   "cell_type": "code",
   "execution_count": 4,
   "id": "1eda3b3f",
   "metadata": {},
   "outputs": [],
   "source": [
    "def chinese_postman(graph,starting_node=None,verbose=False):\n",
    "        \n",
    "    def get_shortest_distance(graph, pairs, edge_weight_name):\n",
    "        return {pair : nx.dijkstra_path_length(graph, pair[0], pair[1], edge_weight_name) for pair in pairs}\n",
    "\n",
    "    def create_graph(node_pairs_with_weights, flip_weight = True):\n",
    "        graph = nx.Graph()\n",
    "        for k,v in node_pairs_with_weights.items():\n",
    "            wt = -v if flip_weight else v\n",
    "            graph.add_edge(k[0], k[1], **{'distance': v, 'weight': wt})\n",
    "        return graph\n",
    "\n",
    "    def create_new_graph(graph, edges, starting_node=None):\n",
    "        g = nx.MultiGraph()\n",
    "        for edge in edges:\n",
    "            aug_path  = nx.shortest_path(graph, edge[0], edge[1], weight=\"distance\")\n",
    "            aug_path_pairs  = list(zip(aug_path[:-1],aug_path[1:]))\n",
    "\n",
    "            for aug_edge in aug_path_pairs:\n",
    "                aug_edge_attr = graph[aug_edge[0]][aug_edge[1]]\n",
    "                g.add_edge(aug_edge[0], aug_edge[1], attr_dict=aug_edge_attr)\n",
    "        for edge in graph.edges(data=True):\n",
    "            g.add_edge(edge[0],edge[1],attr_dict=edge[2:])\n",
    "        return g\n",
    "\n",
    "    def create_eulerian_circuit(graph, starting_node=starting_node):\n",
    "        return list(nx.eulerian_circuit(graph,source=starting_node))\n",
    "    \n",
    "    odd_degree_nodes = [node for node, degree in dict(nx.degree(graph)).items() if degree%2 == 1]\n",
    "    odd_degree_pairs = itertools.combinations(odd_degree_nodes, 2)\n",
    "    odd_nodes_pairs_shortest_path = get_shortest_distance(graph, odd_degree_pairs, \"distance\")\n",
    "    graph_complete_odd = create_graph(odd_nodes_pairs_shortest_path, flip_weight=True)\n",
    "    if verbose:\n",
    "        print('Number of nodes (odd): {}'.format(len(graph_complete_odd.nodes())))\n",
    "        print('Number of edges (odd): {}'.format(len(graph_complete_odd.edges())))\n",
    "    odd_matching_edges = nx.algorithms.max_weight_matching(graph_complete_odd, True)\n",
    "    if verbose: print('Number of edges in matching: {}'.format(len(odd_matching_edges)))\n",
    "    multi_graph = create_new_graph(graph, odd_matching_edges)\n",
    "\n",
    "    return(create_eulerian_circuit(multi_graph, starting_node))\n"
   ]
  },
  {
   "cell_type": "markdown",
   "id": "871cbcbe",
   "metadata": {},
   "source": [
    "## Import sounds"
   ]
  },
  {
   "cell_type": "code",
   "execution_count": 5,
   "id": "3c143015",
   "metadata": {},
   "outputs": [],
   "source": [
    "# I Coro\n",
    "S_obj,S_fil,_ = importSoundfiles(dirpath='../SOUNDS/1mo-CORO/',\n",
    "                                     filepath='/1-SOPRANO/*.wav',mult=1.0,gain=1.0)\n",
    "A_obj,A_fil,_ = importSoundfiles(dirpath='../SOUNDS/1mo-CORO/',\n",
    "                                     filepath='/2-CONTRALTO/*.wav',mult=1.0,gain=1.0)\n",
    "T_obj,T_fil,_ = importSoundfiles(dirpath='../SOUNDS/1mo-CORO/',\n",
    "                                     filepath='/3-TENORE/*.wav',mult=1.0,gain=1.0)\n",
    "B_obj,B_fil,_ = importSoundfiles(dirpath='../SOUNDS/1mo-CORO/',\n",
    "                                     filepath='/4-BASSO/*.wav',mult=1.0,gain=1.0)\n",
    "\n",
    "# II coro\n",
    "II_obj,II_fil,_ = importSoundfiles(dirpath='../SOUNDS/2do-CORO/',\n",
    "                                     filepath='/*.wav',mult=1.0,gain=1.0)\n",
    "\n",
    "# III coro\n",
    "III_obj,III_fil,_ = importSoundfiles(dirpath='../SOUNDS/3zo-CORO/',\n",
    "                                     filepath='/*.wav',mult=1.0,gain=2.0)\n",
    "\n",
    "# IV coro\n",
    "IV_obj,IV_fil,_ = importSoundfiles(dirpath='../SOUNDS/4to-CORO/',\n",
    "                                     filepath='/*.wav',mult=1.0,gain=1.0)\n",
    "\n",
    "# combine \"guerrilla\" sounds in list\n",
    "g_obj = [II_obj,III_obj,IV_obj]\n",
    "g_fil = [II_fil,III_fil,IV_fil]"
   ]
  },
  {
   "cell_type": "code",
   "execution_count": 6,
   "id": "d73c7d6d",
   "metadata": {},
   "outputs": [],
   "source": [
    "# check that all files are in wav format at 44100, else convert\n",
    "for file in glob.glob('../SOUNDS/VOCI/*'):\n",
    "    if file.split('.')[-1] != 'wav':\n",
    "        m4a_file = file\n",
    "        wav_filename = m4a_file[:-len(file.split('.')[-1])]+'wav'\n",
    "        track = AudioSegment.from_file(m4a_file,  format= 'm4a')\n",
    "        track = track.set_frame_rate(44100)\n",
    "        file_handle = track.export(wav_filename, format='wav')"
   ]
  },
  {
   "cell_type": "code",
   "execution_count": 7,
   "id": "805324e1",
   "metadata": {},
   "outputs": [],
   "source": [
    "# voices\n",
    "v_obj,v_fil,_ = importSoundfiles(dirpath='../SOUNDS/VOCI/',\n",
    "                                     filepath='/*.wav',mult=1.0,gain=1.0)"
   ]
  },
  {
   "cell_type": "markdown",
   "id": "eee7dfec",
   "metadata": {},
   "source": [
    "### Define network and path"
   ]
  },
  {
   "cell_type": "code",
   "execution_count": 8,
   "id": "e64af3c7",
   "metadata": {},
   "outputs": [],
   "source": [
    "# This function plays the instrumental background - I coro\n",
    "def playPart(obj,fil,mul,nch):\n",
    "    global stop_threads\n",
    "    while True:\n",
    "        if stop_threads:\n",
    "            break\n",
    "        Gx = nx.barabasi_albert_graph(len(fil),2)\n",
    "        chino = chinese_postman(Gx,None,verbose=False)\n",
    "        seq = [chino[0][0]]\n",
    "        for s in range(1,len(chino)):\n",
    "            seq.append(chino[s][1])\n",
    "            if stop_threads:\n",
    "                break\n",
    "        for n in range(len(seq)):\n",
    "            obj[seq[n]].out(nch,0).setMul(mul)\n",
    "            time.sleep(po.sndinfo(fil[seq[n]])[1])\n",
    "            if stop_threads:\n",
    "                break\n",
    "    return\n",
    "\n",
    "# This function plays the \"guerrilla\" episodes in the II, III and IV coro on radios\n",
    "def playRadioGuerrilla(obj,fil,mul,nch=np.arange(4,8),delay=30):\n",
    "    global stop_threads\n",
    "    while True:\n",
    "        if stop_threads:\n",
    "            break\n",
    "        for i in range(3):\n",
    "            if stop_threads:\n",
    "                    break\n",
    "            time.sleep(delay*(np.random.rand()+1))\n",
    "            Gx = nx.barabasi_albert_graph(len(fil[i]),2)\n",
    "            chino = chinese_postman(Gx,None,verbose=False)\n",
    "            seq = [chino[0][0]]\n",
    "            for s in range(1,len(chino)):\n",
    "                seq.append(chino[s][1])\n",
    "                if stop_threads:\n",
    "                    break\n",
    "            for n in range(len(seq)):\n",
    "                ch = int(np.random.choice(nch))\n",
    "                obj[i][seq[n]].out(ch,0).setMul(mul)\n",
    "                time.sleep(po.sndinfo(fil[i][seq[n]])[1])\n",
    "                if stop_threads:\n",
    "                    break\n",
    "    return\n",
    "\n",
    "# This function plays the voices to radios\n",
    "def playVoices(obj,fil,mul,nch=np.arange(8,12)):\n",
    "    global stop_threads\n",
    "    while True:\n",
    "        if stop_threads:\n",
    "            break\n",
    "        Gx = nx.barabasi_albert_graph(len(fil),2)\n",
    "        chino = chinese_postman(Gx,None,verbose=False)\n",
    "        seq = [chino[0][0]]\n",
    "        for s in range(1,len(chino)):\n",
    "            seq.append(chino[s][1])\n",
    "            if stop_threads:\n",
    "                break\n",
    "        for n in range(len(seq)):\n",
    "            ch = int(np.random.choice(nch))\n",
    "            obj[seq[n]].out(ch,0).setMul(mul)\n",
    "            time.sleep(po.sndinfo(fil[seq[0]])[1]/(1+np.random.rand()))\n",
    "            if stop_threads:\n",
    "                break\n",
    "    return"
   ]
  },
  {
   "cell_type": "markdown",
   "id": "ed135564",
   "metadata": {},
   "source": [
    "## Orchestra"
   ]
  },
  {
   "cell_type": "code",
   "execution_count": 9,
   "id": "f3f10170",
   "metadata": {},
   "outputs": [],
   "source": [
    "stop_threads=False\n",
    "# I coro\n",
    "threading.Thread(target=playPart,args=(S_obj,S_fil,0.1,0)).start()\n",
    "threading.Thread(target=playPart,args=(A_obj,A_fil,0.1,1)).start()\n",
    "threading.Thread(target=playPart,args=(T_obj,T_fil,0.1,2)).start()\n",
    "threading.Thread(target=playPart,args=(B_obj,B_fil,0.1,3)).start()\n",
    "threading.Thread(target=playPart,args=(S_obj,S_fil,0.1,3)).start()\n",
    "threading.Thread(target=playPart,args=(A_obj,A_fil,0.1,2)).start()\n",
    "threading.Thread(target=playPart,args=(T_obj,T_fil,0.1,1)).start()\n",
    "threading.Thread(target=playPart,args=(B_obj,B_fil,0.1,0)).start()\n",
    "# II,III & IV coro (radio guerrilla)\n",
    "threading.Thread(target=playRadioGuerrilla,args=(g_obj,g_fil,0.2)).start()\n",
    "# voices\n",
    "threading.Thread(target=playVoices,args=(v_obj,v_fil,0.4)).start()"
   ]
  },
  {
   "cell_type": "code",
   "execution_count": 10,
   "id": "8033c4de",
   "metadata": {},
   "outputs": [
    {
     "name": "stdout",
     "output_type": "stream",
     "text": [
      "threads killed\n"
     ]
    }
   ],
   "source": [
    "stop_threads = True\n",
    "print('threads killed')"
   ]
  },
  {
   "cell_type": "code",
   "execution_count": 14,
   "id": "1e9b4e9a",
   "metadata": {},
   "outputs": [
    {
     "data": {
      "text/plain": [
       "8"
      ]
     },
     "execution_count": 14,
     "metadata": {},
     "output_type": "execute_result"
    }
   ],
   "source": [
    "threading.active_count()"
   ]
  },
  {
   "cell_type": "markdown",
   "id": "366416b7",
   "metadata": {},
   "source": [
    "## Timed threading to get new audio files"
   ]
  },
  {
   "cell_type": "code",
   "execution_count": 9,
   "id": "afc08893",
   "metadata": {},
   "outputs": [],
   "source": [
    "from datetime import datetime"
   ]
  },
  {
   "cell_type": "code",
   "execution_count": 10,
   "id": "759fd762",
   "metadata": {},
   "outputs": [],
   "source": [
    "def check_time():\n",
    "    global stop_time\n",
    "    before = datetime.now()\n",
    "    while True:\n",
    "        if stop_time:\n",
    "            break\n",
    "        # datetime object containing current date and time\n",
    "        now = datetime.now()\n",
    "        if now.strftime(\"%M\") != before.strftime(\"%M\"):\n",
    "            before = now.now()\n",
    "            print(before.strftime(\"%M\"))"
   ]
  },
  {
   "cell_type": "code",
   "execution_count": 12,
   "id": "658c0b87",
   "metadata": {},
   "outputs": [
    {
     "name": "stdout",
     "output_type": "stream",
     "text": [
      "2424\n",
      "\n"
     ]
    }
   ],
   "source": [
    "stop_time = False\n",
    "threading.Thread(target=check_time).start()"
   ]
  },
  {
   "cell_type": "code",
   "execution_count": 13,
   "id": "0f0d8eea",
   "metadata": {},
   "outputs": [],
   "source": [
    "stop_time = True"
   ]
  },
  {
   "cell_type": "code",
   "execution_count": null,
   "id": "76f32db9",
   "metadata": {},
   "outputs": [],
   "source": [
    "threading.active_count()"
   ]
  }
 ],
 "metadata": {
  "kernelspec": {
   "display_name": "Python 3 (ipykernel)",
   "language": "python",
   "name": "python3"
  },
  "language_info": {
   "codemirror_mode": {
    "name": "ipython",
    "version": 3
   },
   "file_extension": ".py",
   "mimetype": "text/x-python",
   "name": "python",
   "nbconvert_exporter": "python",
   "pygments_lexer": "ipython3",
   "version": "3.9.7"
  }
 },
 "nbformat": 4,
 "nbformat_minor": 5
}
