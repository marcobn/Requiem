{
 "cells": [
  {
   "cell_type": "markdown",
   "id": "7a0b0a1b",
   "metadata": {},
   "source": [
    "# Requiem between a barrel and a heart\n",
    "\n",
    "**Marco Buongiorno Nardelli and Pedram Baldari**\n",
    "\n",
    "General instruction on control software:\n",
    "\n",
    "The installation is controlled by this python jupyter notebook. Execute all the cells in order by selecting the cell and press **shift+enter**\n",
    "\n",
    "**STEP 1**\n",
    "\n",
    "In a terminal window start the jack audio server by executing<br>\n",
    "qjackctl &\n",
    "![qjackctl.png](./Figures/qjackctl.png)\n",
    "\n",
    "The jack window will open\n",
    "\n",
    "![jackwin.png](./Figures/jackwin.png)\n",
    "\n",
    "Clik on the ![start.png](./Figures/start.png) button to start the server"
   ]
  },
  {
   "cell_type": "markdown",
   "id": "38bc6cb1",
   "metadata": {},
   "source": [
    "**Now execute the cell below**"
   ]
  },
  {
   "cell_type": "code",
   "execution_count": 1,
   "id": "337dd9a1",
   "metadata": {},
   "outputs": [
    {
     "name": "stdout",
     "output_type": "stream",
     "text": [
      "\n",
      "WxPython is not found for the current python version.\n",
      "Pyo will use a minimal GUI toolkit written with Tkinter (if available).\n",
      "This toolkit has limited functionnalities and is no more\n",
      "maintained or updated. If you want to use all of pyo's\n",
      "GUI features, you should install WxPython, available here:\n",
      "http://www.wxpython.org/\n",
      "\n",
      "Pyo warning: Buffer size set to Jack engine buffer size: 1024.\n"
     ]
    },
    {
     "data": {
      "text/plain": [
       "<pyo.lib.server.Server at 0x7f5762cd60>"
      ]
     },
     "execution_count": 1,
     "metadata": {},
     "output_type": "execute_result"
    }
   ],
   "source": [
    "import threading, itertools\n",
    "import pyo\n",
    "import time\n",
    "import pyo as po\n",
    "from pydub import AudioSegment\n",
    "import sys,os,glob,time, signal\n",
    "import numpy as np\n",
    "import networkx as nx\n",
    "from datetime import datetime\n",
    "\n",
    "# Set number of input and output channels to be fed to Reaper\n",
    "# Ch. 0,1,2,3 -> to speakers\n",
    "# Ch. 4,5,6,7 -> to radio transmitters\n",
    "nch = 12\n",
    "ich = 0\n",
    "# Set audio server\n",
    "s = po.Server(nchnls=nch,ichnls=ich,audio='jack').boot()\n",
    "s.start()"
   ]
  },
  {
   "cell_type": "markdown",
   "id": "594a5a87",
   "metadata": {},
   "source": [
    "**STEP 2**\n",
    "\n",
    "## Now it is time to check the audio routing \n",
    "\n",
    "Go back to the jack control window and click on\n",
    "![graph.png](./Figures/graph.png)\n",
    "\n",
    "This window will appear\n",
    "![routing1.png](./Figures/routing1.png)\n",
    "Disconnect all the links by selecting the patching cables and hit [Disconnect] from the main menu on the window\n",
    "![routing2.png](./Figures/routing2.png)\n",
    "\n",
    "Now connect the 12 pyo outputs to the system playback 3 through 10 (1 and 2 are reserved for monitoring in the FocusRite 18i20). Assignment is as follows: <br>\n",
    "    1->3<br>\n",
    "    2->4<br>\n",
    "    3->5<br>\n",
    "    4->6<br>\n",
    "    5->7<br>\n",
    "    6->8<br>\n",
    "    7->9<br>\n",
    "    8->10<br>\n",
    "    9->7<br>\n",
    "    10->8<br>\n",
    "    11->9<br>\n",
    "    12->10<br>\n",
    "The final patching should look like this:\n",
    "![routing3.png](./Figures/routing3.png)"
   ]
  },
  {
   "cell_type": "markdown",
   "id": "e7fa202d",
   "metadata": {},
   "source": [
    "## The following cell contains all the initializations and definitions for the execution of the piece"
   ]
  },
  {
   "cell_type": "code",
   "execution_count": 4,
   "id": "cefe2639",
   "metadata": {},
   "outputs": [],
   "source": [
    "def importSoundfiles(dirpath='./',filepath='./',mult=0.1,gain=1.0):\n",
    "\n",
    "    # reading wavefiles\n",
    "\n",
    "    # files\n",
    "    try:\n",
    "        obj = [None]*len(glob.glob(dirpath+filepath))\n",
    "        fil = [None]*len(glob.glob(dirpath+filepath))\n",
    "        n=0\n",
    "        for file in glob.glob(dirpath+filepath):\n",
    "            fil[n] = file\n",
    "            n += 1\n",
    "        for i in range(len(glob.glob(dirpath+filepath))):\n",
    "            obj[i] = po.SfPlayer(fil[i],mul=mult*gain)\n",
    "    except:\n",
    "        print('error in file reading',dirpath+filepath)\n",
    "        pass\n",
    "\n",
    "    return(obj,fil,mult)\n",
    "\n",
    "def chinese_postman(graph,starting_node=None,verbose=False):\n",
    "        \n",
    "    def get_shortest_distance(graph, pairs, edge_weight_name):\n",
    "        return {pair : nx.dijkstra_path_length(graph, pair[0], pair[1], edge_weight_name) for pair in pairs}\n",
    "\n",
    "    def create_graph(node_pairs_with_weights, flip_weight = True):\n",
    "        graph = nx.Graph()\n",
    "        for k,v in node_pairs_with_weights.items():\n",
    "            wt = -v if flip_weight else v\n",
    "            graph.add_edge(k[0], k[1], **{'distance': v, 'weight': wt})\n",
    "        return graph\n",
    "\n",
    "    def create_new_graph(graph, edges, starting_node=None):\n",
    "        g = nx.MultiGraph()\n",
    "        for edge in edges:\n",
    "            aug_path  = nx.shortest_path(graph, edge[0], edge[1], weight=\"distance\")\n",
    "            aug_path_pairs  = list(zip(aug_path[:-1],aug_path[1:]))\n",
    "\n",
    "            for aug_edge in aug_path_pairs:\n",
    "                aug_edge_attr = graph[aug_edge[0]][aug_edge[1]]\n",
    "                g.add_edge(aug_edge[0], aug_edge[1], attr_dict=aug_edge_attr)\n",
    "        for edge in graph.edges(data=True):\n",
    "            g.add_edge(edge[0],edge[1],attr_dict=edge[2:])\n",
    "        return g\n",
    "\n",
    "    def create_eulerian_circuit(graph, starting_node=starting_node):\n",
    "        return list(nx.eulerian_circuit(graph,source=starting_node))\n",
    "    \n",
    "    odd_degree_nodes = [node for node, degree in dict(nx.degree(graph)).items() if degree%2 == 1]\n",
    "    odd_degree_pairs = itertools.combinations(odd_degree_nodes, 2)\n",
    "    odd_nodes_pairs_shortest_path = get_shortest_distance(graph, odd_degree_pairs, \"distance\")\n",
    "    graph_complete_odd = create_graph(odd_nodes_pairs_shortest_path, flip_weight=True)\n",
    "    if verbose:\n",
    "        print('Number of nodes (odd): {}'.format(len(graph_complete_odd.nodes())))\n",
    "        print('Number of edges (odd): {}'.format(len(graph_complete_odd.edges())))\n",
    "    odd_matching_edges = nx.algorithms.max_weight_matching(graph_complete_odd, True)\n",
    "    if verbose: print('Number of edges in matching: {}'.format(len(odd_matching_edges)))\n",
    "    multi_graph = create_new_graph(graph, odd_matching_edges)\n",
    "\n",
    "    return(create_eulerian_circuit(multi_graph, starting_node))\n",
    "\n",
    "\n",
    "## Import sounds\n",
    "\n",
    "# I Coro\n",
    "S_obj0,S_fil0,_ = importSoundfiles(dirpath='../SOUNDS/1mo-CORO/',\n",
    "                                     filepath='/1-SOPRANO/*.wav',mult=1.0,gain=1.0)\n",
    "A_obj0,A_fil0,_ = importSoundfiles(dirpath='../SOUNDS/1mo-CORO/',\n",
    "                                     filepath='/2-CONTRALTO/*.wav',mult=1.0,gain=1.0)\n",
    "T_obj0,T_fil0,_ = importSoundfiles(dirpath='../SOUNDS/1mo-CORO/',\n",
    "                                     filepath='/3-TENORE/*.wav',mult=1.0,gain=1.0)\n",
    "B_obj0,B_fil0,_ = importSoundfiles(dirpath='../SOUNDS/1mo-CORO/',\n",
    "                                     filepath='/4-BASSO/*.wav',mult=1.0,gain=1.0)\n",
    "\n",
    "S_obj1,S_fil1,_ = importSoundfiles(dirpath='../SOUNDS/1mo-CORO/',\n",
    "                                     filepath='/1-SOPRANO/*.wav',mult=1.0,gain=1.0)\n",
    "A_obj1,A_fil1,_ = importSoundfiles(dirpath='../SOUNDS/1mo-CORO/',\n",
    "                                     filepath='/2-CONTRALTO/*.wav',mult=1.0,gain=1.0)\n",
    "T_obj1,T_fil1,_ = importSoundfiles(dirpath='../SOUNDS/1mo-CORO/',\n",
    "                                     filepath='/3-TENORE/*.wav',mult=1.0,gain=1.0)\n",
    "B_obj1,B_fil1,_ = importSoundfiles(dirpath='../SOUNDS/1mo-CORO/',\n",
    "                                     filepath='/4-BASSO/*.wav',mult=1.0,gain=1.0)\n",
    "# II coro\n",
    "II_obj,II_fil,_ = importSoundfiles(dirpath='../SOUNDS/2do-CORO/',\n",
    "                                     filepath='/*.wav',mult=1.0,gain=1.0)\n",
    "\n",
    "# III coro\n",
    "III_obj,III_fil,_ = importSoundfiles(dirpath='../SOUNDS/3zo-CORO/',\n",
    "                                     filepath='/*.wav',mult=1.0,gain=2.0)\n",
    "\n",
    "# IV coro\n",
    "IV_obj,IV_fil,_ = importSoundfiles(dirpath='../SOUNDS/4to-CORO/',\n",
    "                                     filepath='/*.wav',mult=1.0,gain=1.0)\n",
    "\n",
    "# combine \"guerrilla\" sounds in list\n",
    "g_obj = [II_obj,III_obj,IV_obj]\n",
    "g_fil = [II_fil,III_fil,IV_fil]\n",
    "\n",
    "# check that all files are in wav format at 44100, else convert\n",
    "for file in glob.glob('../SOUNDS/VOCI/*'):\n",
    "    if file.split('.')[-1] != 'wav':\n",
    "        m4a_file = file\n",
    "        wav_filename = m4a_file[:-len(file.split('.')[-1])]+'wav'\n",
    "        track = AudioSegment.from_file(m4a_file,  format= 'm4a')\n",
    "        track = track.set_frame_rate(44100)\n",
    "        file_handle = track.export(wav_filename, format='wav')\n",
    "\n",
    "# voices\n",
    "v_obj,v_fil,_ = importSoundfiles(dirpath='../SOUNDS/VOCI/',\n",
    "                                     filepath='/*.wav',mult=1.0,gain=1.0)\n",
    "\n",
    "### Define network and path\n",
    "\n",
    "# This function plays the instrumental background - I coro\n",
    "def playPart(obj,fil,mul,nch):\n",
    "    global stop_threads\n",
    "    while True:\n",
    "        if stop_threads:\n",
    "            break\n",
    "        Gx = nx.barabasi_albert_graph(len(fil),2)\n",
    "        chino = chinese_postman(Gx,None,verbose=False)\n",
    "        seq = [chino[0][0]]\n",
    "        for s in range(1,len(chino)):\n",
    "            seq.append(chino[s][1])\n",
    "            if stop_threads:\n",
    "                break\n",
    "        for n in range(len(seq)):\n",
    "            obj[seq[n]].out(nch,0).setMul(mul)\n",
    "            time.sleep(po.sndinfo(fil[seq[n]])[1])\n",
    "            if stop_threads:\n",
    "                break\n",
    "    return\n",
    "\n",
    "# This function plays the \"guerrilla\" episodes in the II, III and IV coro on radios\n",
    "def playRadioGuerrilla(obj,fil,mul,nch=np.arange(4,8),delay=30):\n",
    "    global stop_threads\n",
    "    while True:\n",
    "        if stop_threads:\n",
    "            break\n",
    "        for i in range(3):\n",
    "            if stop_threads:\n",
    "                    break\n",
    "            time.sleep(delay*(np.random.rand()+1))\n",
    "            Gx = nx.barabasi_albert_graph(len(fil[i]),2)\n",
    "            chino = chinese_postman(Gx,None,verbose=False)\n",
    "            seq = [chino[0][0]]\n",
    "            for s in range(1,len(chino)):\n",
    "                seq.append(chino[s][1])\n",
    "                if stop_threads:\n",
    "                    break\n",
    "            for n in range(len(seq)):\n",
    "                ch = int(np.random.choice(nch))\n",
    "                obj[i][seq[n]].out(ch,0).setMul(mul)\n",
    "                time.sleep(po.sndinfo(fil[i][seq[n]])[1])\n",
    "                if stop_threads:\n",
    "                    break\n",
    "    return\n",
    "\n",
    "# This function plays the voices to radios\n",
    "def playVoices(obj,fil,mul,nch=np.arange(8,12)):\n",
    "    global stop_threads_voices\n",
    "    while True:\n",
    "        if stop_threads_voices:\n",
    "            break\n",
    "        Gx = nx.barabasi_albert_graph(len(fil),2)\n",
    "        chino = chinese_postman(Gx,None,verbose=False)\n",
    "        seq = [chino[0][0]]\n",
    "        for s in range(1,len(chino)):\n",
    "            seq.append(chino[s][1])\n",
    "            if stop_threads_voices:\n",
    "                break\n",
    "        for n in range(len(seq)):\n",
    "            ch = int(np.random.choice(nch))\n",
    "            obj[seq[n]].out(ch,0).setMul(mul)\n",
    "            time.sleep(po.sndinfo(fil[seq[0]])[1]/(1+np.random.rand()))\n",
    "            if stop_threads:\n",
    "                break\n",
    "    return\n",
    "\n",
    "def check_time_update(H,M):\n",
    "    global stop_time,stop_threads_voices \n",
    "    while True:\n",
    "        if stop_time:\n",
    "            break\n",
    "        # datetime object containing current date and time\n",
    "        now = datetime.now()\n",
    "        if now.strftime(\"%H\") == str(H) and now.strftime(\"%M\") == str(M):\n",
    "            print(now.strftime(\"%H\"),now.strftime(\"%M\"))\n",
    "            os.system('git -C ../SOUNDS/VOCI pull')\n",
    "            stop_threads_voices = True\n",
    "            time.sleep(61)"
   ]
  },
  {
   "cell_type": "markdown",
   "id": "ed135564",
   "metadata": {},
   "source": [
    "## Orchestra - execute the following cell to start the installation"
   ]
  },
  {
   "cell_type": "code",
   "execution_count": 3,
   "id": "f3f10170",
   "metadata": {},
   "outputs": [],
   "source": [
    "stop_threads=False\n",
    "# I coro\n",
    "threading.Thread(target=playPart,args=(S_obj0,S_fil0,0.1,0)).start()\n",
    "threading.Thread(target=playPart,args=(A_obj0,A_fil0,0.1,1)).start()\n",
    "threading.Thread(target=playPart,args=(T_obj0,T_fil0,0.1,2)).start()\n",
    "threading.Thread(target=playPart,args=(B_obj0,B_fil0,0.1,3)).start()\n",
    "threading.Thread(target=playPart,args=(S_obj1,S_fil1,0.1,3)).start()\n",
    "threading.Thread(target=playPart,args=(A_obj1,A_fil1,0.1,2)).start()\n",
    "threading.Thread(target=playPart,args=(T_obj1,T_fil1,0.1,1)).start()\n",
    "threading.Thread(target=playPart,args=(B_obj1,B_fil1,0.1,0)).start()\n",
    "# II,III & IV coro (radio guerrilla)\n",
    "threading.Thread(target=playRadioGuerrilla,args=(g_obj,g_fil,0.2)).start()\n",
    "# voices\n",
    "threading.Thread(target=playVoices,args=(v_obj,v_fil,0.2)).start()"
   ]
  },
  {
   "cell_type": "code",
   "execution_count": 5,
   "id": "9f6874d3",
   "metadata": {},
   "outputs": [
    {
     "name": "stdout",
     "output_type": "stream",
     "text": [
      "10 30\n"
     ]
    },
    {
     "name": "stderr",
     "output_type": "stream",
     "text": [
      "hint: Pulling without specifying how to reconcile divergent branches is\n",
      "hint: discouraged. You can squelch this message by running one of the following\n",
      "hint: commands sometime before your next pull:\n",
      "hint: \n",
      "hint:   git config pull.rebase false  # merge (the default strategy)\n",
      "hint:   git config pull.rebase true   # rebase\n",
      "hint:   git config pull.ff only       # fast-forward only\n",
      "hint: \n",
      "hint: You can replace \"git config\" with \"git config --global\" to set a default\n",
      "hint: preference for all repositories. You can also pass --rebase, --no-rebase,\n",
      "hint: or --ff-only on the command line to override the configured default per\n",
      "hint: invocation.\n",
      "From https://github.com/marcobn/Requiem\n",
      "   93a3ff1..c1ee131  main       -> origin/main\n",
      "error: Your local changes to the following files would be overwritten by merge:\n",
      "\tPERFORMANCE/requiem-routing.RPP\n",
      "Please commit your changes or stash them before you merge.\n",
      "Aborting\n",
      "\n",
      "KeyboardInterrupt\n",
      "\n"
     ]
    }
   ],
   "source": [
    "stop_threads=False\n",
    "stop_threads_voices = False\n",
    "stop_time = False\n",
    "# I coro\n",
    "threading.Thread(target=playPart,args=(S_obj0,S_fil0,0.1,0)).start()\n",
    "threading.Thread(target=playPart,args=(A_obj0,A_fil0,0.1,1)).start()\n",
    "threading.Thread(target=playPart,args=(T_obj0,T_fil0,0.1,2)).start()\n",
    "threading.Thread(target=playPart,args=(B_obj0,B_fil0,0.1,3)).start()\n",
    "threading.Thread(target=playPart,args=(S_obj1,S_fil1,0.1,3)).start()\n",
    "threading.Thread(target=playPart,args=(A_obj1,A_fil1,0.1,2)).start()\n",
    "threading.Thread(target=playPart,args=(T_obj1,T_fil1,0.1,1)).start()\n",
    "threading.Thread(target=playPart,args=(B_obj1,B_fil1,0.1,0)).start()\n",
    "# II,III & IV coro (radio guerrilla)\n",
    "threading.Thread(target=playRadioGuerrilla,args=(g_obj,g_fil,0.2)).start()\n",
    "\n",
    "# voices use a different sequence to update the repository of new recordings\n",
    "\n",
    "threading.Thread(target=check_time_update,args=(10,30)).start()\n",
    "threading.Thread(target=playVoices,args=(v_obj,v_fil,0.2)).start()\n",
    "while True:\n",
    "    if stop_threads_voices:\n",
    "        # check that all files are in wav format at 44100, else convert\n",
    "        for file in glob.glob('../SOUNDS/VOCI/*'):\n",
    "            if file.split('.')[-1] != 'wav':\n",
    "                m4a_file = file\n",
    "                wav_filename = m4a_file[:-len(file.split('.')[-1])]+'wav'\n",
    "                track = AudioSegment.from_file(m4a_file,  format= 'm4a')\n",
    "                track = track.set_frame_rate(44100)\n",
    "                file_handle = track.export(wav_filename, format='wav')\n",
    "\n",
    "        # voices\n",
    "        v_obj,v_fil,_ = importSoundfiles(dirpath='../SOUNDS/VOCI/',\n",
    "                                             filepath='/*.wav',mult=1.0,gain=1.0)\n",
    "        stop_threads_voices = False\n",
    "        threading.Thread(target=playVoices,args=(v_obj,v_fil,0.2)).start()"
   ]
  },
  {
   "cell_type": "markdown",
   "id": "4d429d1e",
   "metadata": {},
   "source": [
    "## Execute the following cell to stop the installation"
   ]
  },
  {
   "cell_type": "code",
   "execution_count": 6,
   "id": "8033c4de",
   "metadata": {},
   "outputs": [
    {
     "name": "stdout",
     "output_type": "stream",
     "text": [
      "threads killed\n"
     ]
    }
   ],
   "source": [
    "stop_threads = True\n",
    "stop_threads_voices = True\n",
    "stop_time = True\n",
    "print('threads killed')"
   ]
  },
  {
   "cell_type": "code",
   "execution_count": 11,
   "id": "1e9b4e9a",
   "metadata": {},
   "outputs": [
    {
     "data": {
      "text/plain": [
       "8"
      ]
     },
     "execution_count": 11,
     "metadata": {},
     "output_type": "execute_result"
    }
   ],
   "source": [
    "threading.active_count()"
   ]
  },
  {
   "cell_type": "markdown",
   "id": "115ebf6b",
   "metadata": {},
   "source": [
    "## Timed threading to get new audio files"
   ]
  },
  {
   "cell_type": "code",
   "execution_count": 2,
   "id": "bf3ad2f9",
   "metadata": {},
   "outputs": [
    {
     "data": {
      "text/plain": [
       "datetime.datetime(2022, 6, 10, 10, 7, 5, 441365)"
      ]
     },
     "execution_count": 2,
     "metadata": {},
     "output_type": "execute_result"
    }
   ],
   "source": [
    "datetime.now()"
   ]
  },
  {
   "cell_type": "code",
   "execution_count": null,
   "id": "476cb72e",
   "metadata": {},
   "outputs": [],
   "source": []
  },
  {
   "cell_type": "code",
   "execution_count": 12,
   "id": "920b0da4",
   "metadata": {},
   "outputs": [
    {
     "name": "stdout",
     "output_type": "stream",
     "text": [
      "2424\n",
      "\n"
     ]
    }
   ],
   "source": [
    "stop_time = False\n",
    "threading.Thread(target=check_time).start()"
   ]
  },
  {
   "cell_type": "code",
   "execution_count": 10,
   "id": "582e6e33",
   "metadata": {},
   "outputs": [],
   "source": [
    "def check_time():\n",
    "    global stop_time\n",
    "    before = datetime.now()\n",
    "    while True:\n",
    "        if stop_time:\n",
    "            break\n",
    "        # datetime object containing current date and time\n",
    "        now = datetime.now()\n",
    "        if now.strftime(\"%M\") != before.strftime(\"%M\"):\n",
    "            before = now.now()\n",
    "            print(before.strftime(\"%M\"))"
   ]
  },
  {
   "cell_type": "code",
   "execution_count": 13,
   "id": "1c9b73ab",
   "metadata": {},
   "outputs": [],
   "source": [
    "stop_time = True"
   ]
  },
  {
   "cell_type": "code",
   "execution_count": null,
   "id": "1aef1d7b",
   "metadata": {},
   "outputs": [],
   "source": [
    "threading.active_count()"
   ]
  },
  {
   "cell_type": "markdown",
   "id": "4d53d5fc",
   "metadata": {},
   "source": [
    "## Update SOUNDS/VOCI"
   ]
  },
  {
   "cell_type": "code",
   "execution_count": 3,
   "id": "da68690e",
   "metadata": {},
   "outputs": [
    {
     "name": "stderr",
     "output_type": "stream",
     "text": [
      "hint: Pulling without specifying how to reconcile divergent branches is\n",
      "hint: discouraged. You can squelch this message by running one of the following\n",
      "hint: commands sometime before your next pull:\n",
      "hint: \n",
      "hint:   git config pull.rebase false  # merge (the default strategy)\n",
      "hint:   git config pull.rebase true   # rebase\n",
      "hint:   git config pull.ff only       # fast-forward only\n",
      "hint: \n",
      "hint: You can replace \"git config\" with \"git config --global\" to set a default\n",
      "hint: preference for all repositories. You can also pass --rebase, --no-rebase,\n",
      "hint: or --ff-only on the command line to override the configured default per\n",
      "hint: invocation.\n"
     ]
    },
    {
     "name": "stdout",
     "output_type": "stream",
     "text": [
      "Already up to date.\n"
     ]
    },
    {
     "data": {
      "text/plain": [
       "0"
      ]
     },
     "execution_count": 3,
     "metadata": {},
     "output_type": "execute_result"
    }
   ],
   "source": [
    "os.system('git -C ../SOUNDS/VOCI pull')"
   ]
  },
  {
   "cell_type": "code",
   "execution_count": null,
   "id": "1cd3844c",
   "metadata": {},
   "outputs": [],
   "source": []
  }
 ],
 "metadata": {
  "kernelspec": {
   "display_name": "Python 3 (ipykernel)",
   "language": "python",
   "name": "python3"
  },
  "language_info": {
   "codemirror_mode": {
    "name": "ipython",
    "version": 3
   },
   "file_extension": ".py",
   "mimetype": "text/x-python",
   "name": "python",
   "nbconvert_exporter": "python",
   "pygments_lexer": "ipython3",
   "version": "3.9.2"
  }
 },
 "nbformat": 4,
 "nbformat_minor": 5
}
