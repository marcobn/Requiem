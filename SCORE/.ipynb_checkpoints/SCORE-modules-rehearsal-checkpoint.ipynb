{
 "cells": [
  {
   "cell_type": "code",
   "execution_count": null,
   "metadata": {},
   "outputs": [],
   "source": [
    "import warnings\n",
    "warnings.filterwarnings(\"ignore\") \n",
    "\n",
    "import sys,os,glob,time\n",
    "import numpy as np\n",
    "import liblo\n",
    "import pyo as po\n",
    "import music21 as m21\n",
    "\n",
    "from musicntwrk import musicntwrk\n",
    "from musicntwrk.musicntwrk import PCSet\n",
    "from musicntwrk.plotting.drawNetwork import drawNetwork\n",
    "mk = musicntwrk.musicntwrk(TET=12)\n",
    "\n",
    "from musicntwrk.harmony.harmonicDesign import harmonicDesign\n",
    "from musicntwrk.harmony.networkHarmonyGen import networkHarmonyGen\n",
    "from musicntwrk.harmony.rhythmicDesign import rhythmicDesign"
   ]
  },
  {
   "cell_type": "code",
   "execution_count": null,
   "metadata": {},
   "outputs": [],
   "source": [
    "# Set number of input and output channels - recording setup - model progression\n",
    "nch = 2\n",
    "ich = 0\n",
    "record = False\n",
    "if record:\n",
    "    recfil = 'perf.wav'\n",
    "# choose the model for the progression\n",
    "model = 'score'"
   ]
  },
  {
   "cell_type": "code",
   "execution_count": 4,
   "metadata": {},
   "outputs": [
    {
     "data": {
      "text/plain": [
       "<pyo.lib.server.Server at 0x7f9ee0502af0>"
      ]
     },
     "execution_count": 4,
     "metadata": {},
     "output_type": "execute_result"
    }
   ],
   "source": [
    "# Set audio server\n",
    "s = po.Server(nchnls=nch,ichnls=ich).boot()\n",
    "s.start()"
   ]
  },
  {
   "cell_type": "code",
   "execution_count": 4,
   "metadata": {},
   "outputs": [],
   "source": [
    "if record:\n",
    "    s.recordOptionstions(filename=recfil, fileformat=0, sampletype=1)\n",
    "    s.recstart()"
   ]
  },
  {
   "cell_type": "markdown",
   "metadata": {},
   "source": [
    "### Read the samples and create the dictionaries"
   ]
  },
  {
   "cell_type": "code",
   "execution_count": 11,
   "metadata": {
    "code_folding": []
   },
   "outputs": [],
   "source": [
    "def importSoundfiles(dirpath='./',filepath='./',mult=0.1,gain=1.0):\n",
    "\n",
    "    # reading wavefiles\n",
    "\n",
    "    # files\n",
    "    try:\n",
    "        obj = [None]*len(glob.glob(dirpath+filepath))\n",
    "        fil = [None]*len(glob.glob(dirpath+filepath))\n",
    "        n=0\n",
    "        for file in glob.glob(dirpath+filepath):\n",
    "            fil[n] = file\n",
    "            n += 1\n",
    "        for i in range(len(glob.glob(dirpath+filepath))):\n",
    "            obj[i] = po.SfPlayer(fil[i],mul=mult*gain)\n",
    "    except:\n",
    "        print('error in file reading',dirpath+filepath)\n",
    "        pass\n",
    "\n",
    "    return(obj,fil,mult)"
   ]
  },
  {
   "cell_type": "code",
   "execution_count": 34,
   "metadata": {},
   "outputs": [],
   "source": [
    "# Import sound files\n",
    "\n",
    "# dynamics for [p, mf, f, pizz, slap, jet] respectively\n",
    "mul = [0.1,0.2,0.4,0.4,0.4,0.4]\n",
    "gain = 0.5\n",
    "\n",
    "p_obj,p_fil,p_mul = importSoundfiles(dirpath='../../SOUNDFILES',filepath='/FLUTE/*.wav',mult=mul[0],gain=gain)\n",
    "p1_obj,p_fil,p_mul = importSoundfiles(dirpath='../../SOUNDFILES',filepath='/FLUTE/*.wav',mult=mul[0],gain=gain)\n",
    "mf_obj,mf_fil,mf_mul = importSoundfiles(dirpath='../../SOUNDFILES',filepath='/FLUTE/*.wav',mult=mul[1],gain=gain)\n",
    "mf1_obj,mf_fil,mf_mul = importSoundfiles(dirpath='../../SOUNDFILES',filepath='/FLUTE/*.wav',mult=mul[1],gain=gain)\n",
    "f_obj,f_fil,f_mul = importSoundfiles(dirpath='../../SOUNDFILES',filepath='/FLUTE/*.wav',mult=mul[2],gain=gain)\n",
    "f1_obj,f_fil,f_mul = importSoundfiles(dirpath='../../SOUNDFILES',filepath='/FLUTE/*.wav',mult=mul[2],gain=gain)\n",
    "\n",
    "f = []\n",
    "l = []\n",
    "for n,file in enumerate(p_fil):\n",
    "    f.append(file.split('/')[-1].split('.')[0])\n",
    "    l.append(n)\n",
    "p_dict = dict(zip(f,l))\n",
    "\n",
    "f = []\n",
    "l = []\n",
    "for n,file in enumerate(mf_fil):\n",
    "    f.append(file.split('/')[-1].split('.')[0])\n",
    "    l.append(n)\n",
    "mf_dict = dict(zip(f,l))\n",
    "\n",
    "f = []\n",
    "l = []\n",
    "for n,file in enumerate(f_fil):\n",
    "    f.append(file.split('/')[-1].split('.')[0])\n",
    "    l.append(n)\n",
    "f_dict = dict(zip(f,l))\n",
    "\n",
    "pizz_obj,pizz_fil,pizz_mul = importSoundfiles(dirpath='../../SOUNDFILES',filepath='/PIZZ/*.wav',\n",
    "                                              mult=mul[3],gain=gain)\n",
    "slap_obj,slap_fil,slap_mul = importSoundfiles(dirpath='../../SOUNDFILES',filepath='/SLAPS/*.wav',\n",
    "                                              mult=mul[4],gain=gain)\n",
    "jet_obj,jet_fil,jet_mul = importSoundfiles(dirpath='../../SOUNDFILES',filepath='/JETS/*.wav',\n",
    "                                           mult=mul[5],gain=gain)\n",
    "jet1_obj,jet_fil,jet_mul = importSoundfiles(dirpath='../../SOUNDFILES',filepath='/JETS/*.wav',\n",
    "                                            mult=mul[5],gain=gain)"
   ]
  },
  {
   "cell_type": "code",
   "execution_count": 36,
   "metadata": {},
   "outputs": [
    {
     "data": {
      "text/plain": [
       "14"
      ]
     },
     "execution_count": 36,
     "metadata": {},
     "output_type": "execute_result"
    }
   ],
   "source": [
    "len(jet1_obj)"
   ]
  },
  {
   "cell_type": "code",
   "execution_count": 38,
   "metadata": {},
   "outputs": [],
   "source": [
    "def panMove(snd0,snd1,fil,nch,mult):\n",
    "    ff = float(1/po.sndinfo(fil)[1]/4)\n",
    "    sin = po.Sine(freq=ff,phase=0)\n",
    "    cos = po.Sine(freq=ff,phase=0.25)\n",
    "    ini = np.random.randint(0,nch)\n",
    "    step = np.random.randint(0,int(nch/2)+1)\n",
    "    end = (ini+step)%nch\n",
    "    snd0.out(ini,0).setMul(mult*cos)\n",
    "    snd1.out(end,0).setMul(mult*sin)"
   ]
  },
  {
   "cell_type": "markdown",
   "metadata": {},
   "source": [
    "### Build the harmonic progression"
   ]
  },
  {
   "cell_type": "code",
   "execution_count": 17,
   "metadata": {},
   "outputs": [],
   "source": [
    "def noteList(pitches,TET=12):\n",
    "\n",
    "    notelist = []\n",
    "    for i in range(len(pitches)):\n",
    "        c = PCSet(np.random.permutation(np.asarray(pitches[i])),UNI=False,ORD=False,TET=TET)\n",
    "        for i in range(c.pcs.shape[0]):\n",
    "            notelist.append(c.pcs[i])\n",
    "    notelist = np.asarray(notelist)\n",
    "\n",
    "    return(notelist)"
   ]
  },
  {
   "cell_type": "markdown",
   "metadata": {},
   "source": [
    "### From an existing score\n",
    "__Example__: Bach's chord distribution on a scale-free network built according to the Barabasi-Albert model of preferential attachment"
   ]
  },
  {
   "cell_type": "code",
   "execution_count": 24,
   "metadata": {},
   "outputs": [],
   "source": [
    "randomized = True\n",
    "if model == 'score':\n",
    "    # Read score from file or music21 repository\n",
    "    score = m21.corpus.parse('bwv267').corpusFilepath\n",
    "    seq,chords,_ = mk.dictionary(space='score',scorefil=score,music21=True,show=False)\n",
    "    if randomized:\n",
    "        bnodes,bedges,_,_,_,_,_ = mk.network(space='score',seq=seq,ntx=True,general=True,distance='euclidean',\n",
    "                                            grphtype='directed')\n",
    "        euseq,_,_ = harmonicDesign(mk,len(bnodes),bnodes,bedges,nedges=2,seed=None,reverse=True,display=False,write=False)\n",
    "    else:\n",
    "        euseq = seq\n"
   ]
  },
  {
   "cell_type": "markdown",
   "metadata": {},
   "source": [
    "### From a probabilistic network distribution (I)\n",
    "\n",
    "**Exanple**: probabilistic chord distribution based on voice leading distances on a scale-free network built according to the Barabasi-Albert model of preferential attachment (*operator version*)"
   ]
  },
  {
   "cell_type": "code",
   "execution_count": 10,
   "metadata": {},
   "outputs": [],
   "source": [
    "if model != 'score':\n",
    "    # generate initial dictionary of tetrachords\n",
    "    tetra,_ = mk.dictionary(space='pcs',Nc=4,row=False,order=1,prob=0.15)"
   ]
  },
  {
   "cell_type": "code",
   "execution_count": 11,
   "metadata": {},
   "outputs": [],
   "source": [
    "if model == 'probI':\n",
    "    names=['O(1)','O(1,1)','O(1,1,2)','O(1,2)','O(1,1,2,2)','O(1,2,2)','O(1,2,2,2)',\n",
    "           'O(1,1,3)','O(1,1,1)','O(2,2)']\n",
    "    probs=[0.25,0.10,0.30,0.25,0.60,0.60,0.80,0.40,0.20,0.20]\n",
    "    while True:\n",
    "        enodes, eedges = networkHarmonyGen(mk,descriptor='vLead',dictionary=tetra,names=names,\n",
    "                                       distance='euclidean',probs=probs,pcslabel=True,write=False)\n",
    "        try: \n",
    "            euseq = harmonicDesign(mk,len(enodes),2,enodes,eedges,seed=None,reverse=True,\n",
    "                                   display=False,write=False)\n",
    "            break\n",
    "        except:\n",
    "            pass"
   ]
  },
  {
   "cell_type": "markdown",
   "metadata": {},
   "source": [
    "### From a probabilistic network distribution (II)\n",
    "\n",
    "**Exanple**: probabilistic chord distribution based on voice leading distances on a scale-free network built \n",
    "according to the Barabasi-Albert model of preferential attachment (*distance threshold version*)"
   ]
  },
  {
   "cell_type": "code",
   "execution_count": 12,
   "metadata": {},
   "outputs": [],
   "source": [
    "if model == 'probII':\n",
    "    while True:\n",
    "        enodes, eedges = networkHarmonyGen(mk,descriptor='vLead',dictionary=tetra,thup=3.0,thdw=0.1,\n",
    "                                       distance='euclidean',probs=[0.5],pcslabel=True,write=False)\n",
    "        try:\n",
    "            euseq = harmonicDesign(mk,len(enodes),2,enodes,eedges,seed=None,reverse=True,\n",
    "                                   display=False,write=False)\n",
    "            break\n",
    "        except:\n",
    "            pass"
   ]
  },
  {
   "cell_type": "markdown",
   "metadata": {},
   "source": [
    "### Assign name and octave to note list"
   ]
  },
  {
   "cell_type": "code",
   "execution_count": 25,
   "metadata": {},
   "outputs": [],
   "source": [
    "sequence = []\n",
    "for note in noteList(euseq):\n",
    "    p = PCSet([note])\n",
    "    sequence.append(''.join(m21.chord.Chord(p.pcs.tolist()).pitchNames)+str(np.random.randint(0,3)+4))"
   ]
  },
  {
   "cell_type": "markdown",
   "metadata": {},
   "source": [
    "#### define the OSC server"
   ]
  },
  {
   "cell_type": "code",
   "execution_count": 27,
   "metadata": {},
   "outputs": [],
   "source": [
    "# OSC server setup\n",
    "server = liblo.Server(8001)\n",
    "def fallback(path, args, types, src):\n",
    "    global data\n",
    "    data = path\n",
    "# register a fallback for unhandled meessages\n",
    "server.add_method(None, None, fallback)"
   ]
  },
  {
   "cell_type": "markdown",
   "metadata": {},
   "source": [
    "### play the sequence"
   ]
  },
  {
   "cell_type": "code",
   "execution_count": 18,
   "metadata": {},
   "outputs": [],
   "source": [
    "# Play the sequence - Section I\n",
    "nsection = 4\n",
    "nclk = -1\n",
    "while True:\n",
    "    msg = server.recv(100)\n",
    "    if msg:\n",
    "        if data == '/stop': break\n",
    "        nclk += 1\n",
    "        if (nclk/nsection%1) == 0:\n",
    "            dyn = np.random.randint(0,2)\n",
    "            if dyn == 0:\n",
    "                panMove(p_obj[p_dict[sequence[nclk%len(sequence)]]],\n",
    "                        p1_obj[p_dict[sequence[nclk%len(sequence)]]],\n",
    "                        p_fil[p_dict[sequence[nclk%len(sequence)]]],nch,p_mul)\n",
    "#                 out(np.random.randint(0,nch),np.random.randint(0,nch))\n",
    "            elif dyn == 1:\n",
    "                panMove(mf_obj[mf_dict[sequence[nclk%len(sequence)]]],\n",
    "                        mf1_obj[mf_dict[sequence[nclk%len(sequence)]]],\n",
    "                        mf_fil[p_dict[sequence[nclk%len(sequence)]]],nch,mf_mul)\n",
    "#                 out(np.random.randint(0,nch),np.random.randint(0,nch))"
   ]
  },
  {
   "cell_type": "code",
   "execution_count": 19,
   "metadata": {},
   "outputs": [],
   "source": [
    "# Play the sequence - Section II\n",
    "nsection = 1\n",
    "while True:\n",
    "    msg = server.recv(100)\n",
    "    if msg:\n",
    "        if data == '/stop': break\n",
    "        nclk += 1\n",
    "        if (nclk/nsection%1) == 0:\n",
    "            dyn = np.random.randint(0,3)\n",
    "            if dyn == 0: \n",
    "                panMove(p_obj[p_dict[sequence[nclk%len(sequence)]]],\n",
    "                        p1_obj[p_dict[sequence[nclk%len(sequence)]]],\n",
    "                        p_fil[p_dict[sequence[nclk%len(sequence)]]],nch,p_mul)\n",
    "#                 p_obj[p_dict[sequence[nclk%len(sequence)]]].\\\n",
    "#                 out(np.random.randint(0,nch),np.random.randint(0,nch))\n",
    "            elif dyn == 1:\n",
    "                panMove(mf_obj[mf_dict[sequence[nclk%len(sequence)]]],\n",
    "                        mf1_obj[mf_dict[sequence[nclk%len(sequence)]]],\n",
    "                        mf_fil[p_dict[sequence[nclk%len(sequence)]]],nch,mf_mul)\n",
    "#                 mf_obj[mf_dict[sequence[nclk%len(sequence)]]].\\\n",
    "#                 out(np.random.randint(0,nch),np.random.randint(0,nch))\n",
    "            else:\n",
    "                panMove(f_obj[mf_dict[sequence[nclk%len(sequence)]]],\n",
    "                        f1_obj[mf_dict[sequence[nclk%len(sequence)]]],\n",
    "                        f_fil[p_dict[sequence[nclk%len(sequence)]]],nch,f_mul)\n",
    "#                 f_obj[f_dict[sequence[nclk%len(sequence)]]].\\\n",
    "#                 out(np.random.randint(0,nch),np.random.randint(0,nch))"
   ]
  },
  {
   "cell_type": "code",
   "execution_count": 20,
   "metadata": {},
   "outputs": [],
   "source": [
    "# Play the sequence - Section III\n",
    "nsection = 1\n",
    "while True:\n",
    "    msg = server.recv(100)\n",
    "    if msg:\n",
    "        if data == '/stop': break\n",
    "        nclk += 1\n",
    "        if (nclk/nsection%1) == 0:\n",
    "            dyn = np.random.randint(0,3)\n",
    "            if dyn == 0:\n",
    "                panMove(p_obj[p_dict[sequence[nclk%len(sequence)]]],\n",
    "                        p1_obj[p_dict[sequence[nclk%len(sequence)]]],\n",
    "                        p_fil[p_dict[sequence[nclk%len(sequence)]]],nch,p_mul)\n",
    "                pizz_obj[np.random.randint(0,len(pizz_obj))].\\\n",
    "                out(np.random.randint(0,nch),np.random.randint(0,nch),\n",
    "                   delay=np.random.rand()*3)\n",
    "            elif dyn == 1:\n",
    "                panMove(mf_obj[mf_dict[sequence[nclk%len(sequence)]]],\n",
    "                        mf1_obj[mf_dict[sequence[nclk%len(sequence)]]],\n",
    "                        mf_fil[p_dict[sequence[nclk%len(sequence)]]],nch,mf_mul)\n",
    "            else:\n",
    "                panMove(f_obj[mf_dict[sequence[nclk%len(sequence)]]],\n",
    "                        f1_obj[mf_dict[sequence[nclk%len(sequence)]]],\n",
    "                        f_fil[p_dict[sequence[nclk%len(sequence)]]],nch,f_mul)"
   ]
  },
  {
   "cell_type": "code",
   "execution_count": 21,
   "metadata": {},
   "outputs": [],
   "source": [
    "# Play the sequence - Section IV\n",
    "nsection = 1\n",
    "while True:\n",
    "    msg = server.recv(100)\n",
    "    if msg:\n",
    "        if data == '/stop': break\n",
    "        nclk += 1\n",
    "        if (nclk/nsection%1) == 0:\n",
    "            dyn = np.random.randint(0,3)\n",
    "            if dyn == 0:\n",
    "                panMove(p_obj[p_dict[sequence[nclk%len(sequence)]]],\n",
    "                        p1_obj[p_dict[sequence[nclk%len(sequence)]]],\n",
    "                        p_fil[p_dict[sequence[nclk%len(sequence)]]],nch,p_mul)\n",
    "                pizz_obj[np.random.randint(0,len(pizz_obj))].\\\n",
    "                out(np.random.randint(0,nch),np.random.randint(0,nch),\n",
    "                   delay=np.random.rand()*3)\n",
    "            elif dyn == 1:\n",
    "                panMove(mf_obj[mf_dict[sequence[nclk%len(sequence)]]],\n",
    "                        mf1_obj[mf_dict[sequence[nclk%len(sequence)]]],\n",
    "                        mf_fil[p_dict[sequence[nclk%len(sequence)]]],nch,mf_mul)\n",
    "                slap_obj[np.random.randint(0,len(slap_obj))].\\\n",
    "                out(np.random.randint(0,nch),np.random.randint(0,nch),\n",
    "                   delay=np.random.rand()*3)\n",
    "            else:\n",
    "                panMove(f_obj[mf_dict[sequence[nclk%len(sequence)]]],\n",
    "                        f1_obj[mf_dict[sequence[nclk%len(sequence)]]],\n",
    "                        f_fil[p_dict[sequence[nclk%len(sequence)]]],nch,f_mul)"
   ]
  },
  {
   "cell_type": "code",
   "execution_count": 22,
   "metadata": {},
   "outputs": [],
   "source": [
    "# Play the sequence - Section V\n",
    "nsection = 1\n",
    "nclk = -1\n",
    "while True:\n",
    "    msg = server.recv(100)\n",
    "    if msg:\n",
    "        if data == '/stop': break\n",
    "        nclk += 1\n",
    "        if (nclk/nsection%1) == 0:\n",
    "            dyn = np.random.randint(0,3)\n",
    "            if dyn == 0:\n",
    "                panMove(p_obj[p_dict[sequence[nclk%len(sequence)]]],\n",
    "                        p1_obj[p_dict[sequence[nclk%len(sequence)]]],\n",
    "                        p_fil[p_dict[sequence[nclk%len(sequence)]]],nch,p_mul)\n",
    "                pizz_obj[np.random.randint(0,len(pizz_obj))].\\\n",
    "                out(np.random.randint(0,nch),np.random.randint(0,nch),\n",
    "                   delay=np.random.rand()*3)\n",
    "            elif dyn == 1:\n",
    "                panMove(mf_obj[mf_dict[sequence[nclk%len(sequence)]]],\n",
    "                        mf1_obj[mf_dict[sequence[nclk%len(sequence)]]],\n",
    "                        mf_fil[p_dict[sequence[nclk%len(sequence)]]],nch,mf_mul)\n",
    "                slap_obj[np.random.randint(0,len(slap_obj))].\\\n",
    "                out(np.random.randint(0,nch),np.random.randint(0,nch),\n",
    "                   delay=np.random.rand()*3)\n",
    "            else:\n",
    "                panMove(f_obj[mf_dict[sequence[nclk%len(sequence)]]],\n",
    "                        f1_obj[mf_dict[sequence[nclk%len(sequence)]]],\n",
    "                        f_fil[p_dict[sequence[nclk%len(sequence)]]],nch,f_mul)\n",
    "                jet_obj[np.random.randint(0,len(jet_obj))].\\\n",
    "                out(np.random.randint(0,nch),np.random.randint(0,nch),\n",
    "                   delay=np.random.rand()*3)"
   ]
  },
  {
   "cell_type": "code",
   "execution_count": 23,
   "metadata": {},
   "outputs": [],
   "source": [
    "# Play the sequence - Section VI\n",
    "nsection = 1\n",
    "nclk = -1\n",
    "while True:\n",
    "    msg = server.recv(100)\n",
    "    if msg:\n",
    "        if data == '/stop': break\n",
    "        nclk += 1\n",
    "        if (nclk/nsection%1) == 0:\n",
    "            dyn = np.random.randint(0,3)\n",
    "            if dyn == 0:\n",
    "                panMove(p_obj[p_dict[sequence[nclk%len(sequence)]]],\n",
    "                        p1_obj[p_dict[sequence[nclk%len(sequence)]]],\n",
    "                        p_fil[p_dict[sequence[nclk%len(sequence)]]],nch,p_mul)\n",
    "                pizz_obj[np.random.randint(0,len(pizz_obj))].\\\n",
    "                out(np.random.randint(0,nch),np.random.randint(0,nch),\n",
    "                   delay=np.random.rand()*3)\n",
    "            elif dyn == 1:\n",
    "                panMove(mf_obj[mf_dict[sequence[nclk%len(sequence)]]],\n",
    "                        mf1_obj[mf_dict[sequence[nclk%len(sequence)]]],\n",
    "                        mf_fil[p_dict[sequence[nclk%len(sequence)]]],nch,mf_mul)\n",
    "                slap_obj[np.random.randint(0,len(slap_obj))].\\\n",
    "                out(np.random.randint(0,nch),np.random.randint(0,nch),\n",
    "                   delay=np.random.rand()*3)\n",
    "            else:\n",
    "                jetn = np.random.randint(0,len(jet_obj))\n",
    "                panMove(jet_obj[jetn],jet1_obj[jetn],jet_fil[jetn],nch,jet_mul)\n",
    "#                 jet_obj[np.random.randint(0,len(jet_obj))].\\\n",
    "#                 out(np.random.randint(0,nch),np.random.randint(0,nch))"
   ]
  },
  {
   "cell_type": "code",
   "execution_count": 32,
   "metadata": {},
   "outputs": [],
   "source": [
    "# Play the sequence - Section VII\n",
    "nsection = 1\n",
    "nclk = -1\n",
    "while True:\n",
    "    msg = server.recv(100)\n",
    "    if msg:\n",
    "        if data == '/stop': break\n",
    "        nclk += 1\n",
    "        if (nclk/nsection%1) == 0:\n",
    "            dyn = np.random.randint(0,3)\n",
    "            if dyn == 0:\n",
    "                panMove(p_obj[p_dict[sequence[nclk%len(sequence)]]],\n",
    "                        p1_obj[p_dict[sequence[nclk%len(sequence)]]],\n",
    "                        p_fil[p_dict[sequence[nclk%len(sequence)]]],nch,p_mul)\n",
    "                pizz_obj[np.random.randint(0,len(pizz_obj))].\\\n",
    "                out(np.random.randint(0,nch),np.random.randint(0,nch),\n",
    "                   delay=np.random.rand()*3)\n",
    "            elif dyn == 1:\n",
    "                slap_obj[np.random.randint(0,len(slap_obj))].\\\n",
    "                out(np.random.randint(0,nch),np.random.randint(0,nch))\n",
    "            else:\n",
    "                jetn = np.random.randint(0,len(jet_obj))\n",
    "                panMove(jet_obj[jetn],jet1_obj[jetn],jet_fil[jetn],nch,jet_mul)"
   ]
  },
  {
   "cell_type": "code",
   "execution_count": 33,
   "metadata": {},
   "outputs": [],
   "source": [
    "# Play the sequence - Section VIII\n",
    "nsection = 1\n",
    "nclk = -1\n",
    "while True:\n",
    "    msg = server.recv(100)\n",
    "    if msg:\n",
    "        if data == '/stop': break\n",
    "        nclk += 1\n",
    "        if (nclk/nsection%1) == 0:\n",
    "            dyn = np.random.randint(0,3)\n",
    "            if dyn == 0:\n",
    "                pizz_obj[np.random.randint(0,len(pizz_obj))].\\\n",
    "                out(np.random.randint(0,nch),np.random.randint(0,nch))\n",
    "            elif dyn == 1:\n",
    "                slap_obj[np.random.randint(0,len(slap_obj))].\\\n",
    "                out(np.random.randint(0,nch),np.random.randint(0,nch))\n",
    "            else:\n",
    "                jetn = np.random.randint(0,len(jet_obj))\n",
    "                panMove(jet_obj[jetn],jet1_obj[jetn],jet_fil[jetn],nch,jet_mul)"
   ]
  },
  {
   "cell_type": "code",
   "execution_count": 39,
   "metadata": {},
   "outputs": [],
   "source": [
    "# Play the sequence - Section IX\n",
    "nsection = 1\n",
    "nclk = -1\n",
    "while True:\n",
    "    msg = server.recv(100)\n",
    "    if msg:\n",
    "        if data == '/stop': break\n",
    "        nclk += 1\n",
    "        if (nclk/nsection%1) == 0:\n",
    "            dyn = np.random.randint(0,2)\n",
    "            if dyn == 0:\n",
    "                jetn = np.random.randint(0,len(jet_obj))\n",
    "                panMove(jet_obj[jetn],jet1_obj[jetn],jet_fil[jetn],nch,jet_mul)\n",
    "            elif dyn == 1:\n",
    "                slap_obj[np.random.randint(0,len(slap_obj))].\\\n",
    "                out(np.random.randint(0,nch),np.random.randint(0,nch))"
   ]
  },
  {
   "cell_type": "code",
   "execution_count": 42,
   "metadata": {},
   "outputs": [],
   "source": [
    "# Play the sequence - Section X\n",
    "nsection = 4\n",
    "nclk = -1\n",
    "while True:\n",
    "    msg = server.recv(100)\n",
    "    if msg:\n",
    "        if data == '/stop': break\n",
    "        nclk += 1\n",
    "        if (nclk/nsection%1) == 0:\n",
    "            dyn = np.random.randint(0,1)\n",
    "            if dyn == 0:\n",
    "                jetn = np.random.randint(0,len(jet_obj))\n",
    "                panMove(jet_obj[jetn],jet1_obj[jetn],jet_fil[jetn],nch,jet_mul)"
   ]
  },
  {
   "cell_type": "code",
   "execution_count": 36,
   "metadata": {},
   "outputs": [],
   "source": [
    "if record: s.recstop()"
   ]
  },
  {
   "cell_type": "code",
   "execution_count": 37,
   "metadata": {},
   "outputs": [],
   "source": [
    "server.free()"
   ]
  },
  {
   "cell_type": "code",
   "execution_count": 17,
   "metadata": {},
   "outputs": [],
   "source": [
    "s.stop()"
   ]
  },
  {
   "cell_type": "code",
   "execution_count": null,
   "metadata": {},
   "outputs": [],
   "source": []
  }
 ],
 "metadata": {
  "kernelspec": {
   "display_name": "Python 3 (ipykernel)",
   "language": "python",
   "name": "python3"
  },
  "language_info": {
   "codemirror_mode": {
    "name": "ipython",
    "version": 3
   },
   "file_extension": ".py",
   "mimetype": "text/x-python",
   "name": "python",
   "nbconvert_exporter": "python",
   "pygments_lexer": "ipython3",
   "version": "3.9.7"
  }
 },
 "nbformat": 4,
 "nbformat_minor": 2
}
